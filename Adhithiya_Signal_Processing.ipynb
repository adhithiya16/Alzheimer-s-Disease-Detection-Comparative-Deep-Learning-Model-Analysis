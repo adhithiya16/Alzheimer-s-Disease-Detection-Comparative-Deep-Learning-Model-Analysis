{
  "nbformat": 4,
  "nbformat_minor": 0,
  "metadata": {
    "colab": {
      "provenance": [],
      "authorship_tag": "ABX9TyPTGvbLFeSJULlEh9NBqm5w",
      "include_colab_link": true
    },
    "kernelspec": {
      "name": "python3",
      "display_name": "Python 3"
    },
    "language_info": {
      "name": "python"
    }
  },
  "cells": [
    {
      "cell_type": "markdown",
      "metadata": {
        "id": "view-in-github",
        "colab_type": "text"
      },
      "source": [
        "<a href=\"https://colab.research.google.com/github/adhithiya16/Alzheimer-s-Disease-Detection-Comparative-Deep-Learning-Model-Analysis/blob/main/Adhithiya_Signal_Processing.ipynb\" target=\"_parent\"><img src=\"https://colab.research.google.com/assets/colab-badge.svg\" alt=\"Open In Colab\"/></a>"
      ]
    },
    {
      "cell_type": "markdown",
      "source": [
        "**Signal Processing Assignment \\-  RV Systems Private Limited**\n",
        "\n",
        "**Author: ADHITHIYA MS**\n",
        ""
      ],
      "metadata": {
        "id": "AhyHYnEyhBIO"
      }
    },
    {
      "cell_type": "markdown",
      "source": [
        "Step 1: Upload the provided binary signal file (.dat) and Load the binary data as float64 format"
      ],
      "metadata": {
        "id": "08X8tCcdiWJs"
      }
    },
    {
      "cell_type": "code",
      "source": [
        "import numpy as np\n",
        "import matplotlib.pyplot as plt\n",
        "from scipy.fft import fft, fftfreq\n",
        "from google.colab import files\n",
        "\n",
        "# Upload the provided binary signal file (.dat)\n",
        "print(\"Please upload the 'Samples_25_07_24.dat' file:\")\n",
        "uploaded = files.upload()\n",
        "\n",
        "# Load the binary data as float64\n",
        "filename = 'Samples_25_07_24.dat'\n",
        "signal_data = np.frombuffer(uploaded[filename], dtype=np.float64)\n",
        "\n",
        "print(f\"Total samples loaded: {len(signal_data)}\")"
      ],
      "metadata": {
        "colab": {
          "base_uri": "https://localhost:8080/",
          "height": 110
        },
        "id": "Y9WcH4gNic1Z",
        "outputId": "a14d8ea7-1fab-4ece-af2f-63ec11ef31cf"
      },
      "execution_count": 1,
      "outputs": [
        {
          "output_type": "stream",
          "name": "stdout",
          "text": [
            "Please upload the 'Samples_25_07_24.dat' file:\n"
          ]
        },
        {
          "output_type": "display_data",
          "data": {
            "text/plain": [
              "<IPython.core.display.HTML object>"
            ],
            "text/html": [
              "\n",
              "     <input type=\"file\" id=\"files-bcb3dcd6-abbe-4d92-8922-e6cef8afabeb\" name=\"files[]\" multiple disabled\n",
              "        style=\"border:none\" />\n",
              "     <output id=\"result-bcb3dcd6-abbe-4d92-8922-e6cef8afabeb\">\n",
              "      Upload widget is only available when the cell has been executed in the\n",
              "      current browser session. Please rerun this cell to enable.\n",
              "      </output>\n",
              "      <script>// Copyright 2017 Google LLC\n",
              "//\n",
              "// Licensed under the Apache License, Version 2.0 (the \"License\");\n",
              "// you may not use this file except in compliance with the License.\n",
              "// You may obtain a copy of the License at\n",
              "//\n",
              "//      http://www.apache.org/licenses/LICENSE-2.0\n",
              "//\n",
              "// Unless required by applicable law or agreed to in writing, software\n",
              "// distributed under the License is distributed on an \"AS IS\" BASIS,\n",
              "// WITHOUT WARRANTIES OR CONDITIONS OF ANY KIND, either express or implied.\n",
              "// See the License for the specific language governing permissions and\n",
              "// limitations under the License.\n",
              "\n",
              "/**\n",
              " * @fileoverview Helpers for google.colab Python module.\n",
              " */\n",
              "(function(scope) {\n",
              "function span(text, styleAttributes = {}) {\n",
              "  const element = document.createElement('span');\n",
              "  element.textContent = text;\n",
              "  for (const key of Object.keys(styleAttributes)) {\n",
              "    element.style[key] = styleAttributes[key];\n",
              "  }\n",
              "  return element;\n",
              "}\n",
              "\n",
              "// Max number of bytes which will be uploaded at a time.\n",
              "const MAX_PAYLOAD_SIZE = 100 * 1024;\n",
              "\n",
              "function _uploadFiles(inputId, outputId) {\n",
              "  const steps = uploadFilesStep(inputId, outputId);\n",
              "  const outputElement = document.getElementById(outputId);\n",
              "  // Cache steps on the outputElement to make it available for the next call\n",
              "  // to uploadFilesContinue from Python.\n",
              "  outputElement.steps = steps;\n",
              "\n",
              "  return _uploadFilesContinue(outputId);\n",
              "}\n",
              "\n",
              "// This is roughly an async generator (not supported in the browser yet),\n",
              "// where there are multiple asynchronous steps and the Python side is going\n",
              "// to poll for completion of each step.\n",
              "// This uses a Promise to block the python side on completion of each step,\n",
              "// then passes the result of the previous step as the input to the next step.\n",
              "function _uploadFilesContinue(outputId) {\n",
              "  const outputElement = document.getElementById(outputId);\n",
              "  const steps = outputElement.steps;\n",
              "\n",
              "  const next = steps.next(outputElement.lastPromiseValue);\n",
              "  return Promise.resolve(next.value.promise).then((value) => {\n",
              "    // Cache the last promise value to make it available to the next\n",
              "    // step of the generator.\n",
              "    outputElement.lastPromiseValue = value;\n",
              "    return next.value.response;\n",
              "  });\n",
              "}\n",
              "\n",
              "/**\n",
              " * Generator function which is called between each async step of the upload\n",
              " * process.\n",
              " * @param {string} inputId Element ID of the input file picker element.\n",
              " * @param {string} outputId Element ID of the output display.\n",
              " * @return {!Iterable<!Object>} Iterable of next steps.\n",
              " */\n",
              "function* uploadFilesStep(inputId, outputId) {\n",
              "  const inputElement = document.getElementById(inputId);\n",
              "  inputElement.disabled = false;\n",
              "\n",
              "  const outputElement = document.getElementById(outputId);\n",
              "  outputElement.innerHTML = '';\n",
              "\n",
              "  const pickedPromise = new Promise((resolve) => {\n",
              "    inputElement.addEventListener('change', (e) => {\n",
              "      resolve(e.target.files);\n",
              "    });\n",
              "  });\n",
              "\n",
              "  const cancel = document.createElement('button');\n",
              "  inputElement.parentElement.appendChild(cancel);\n",
              "  cancel.textContent = 'Cancel upload';\n",
              "  const cancelPromise = new Promise((resolve) => {\n",
              "    cancel.onclick = () => {\n",
              "      resolve(null);\n",
              "    };\n",
              "  });\n",
              "\n",
              "  // Wait for the user to pick the files.\n",
              "  const files = yield {\n",
              "    promise: Promise.race([pickedPromise, cancelPromise]),\n",
              "    response: {\n",
              "      action: 'starting',\n",
              "    }\n",
              "  };\n",
              "\n",
              "  cancel.remove();\n",
              "\n",
              "  // Disable the input element since further picks are not allowed.\n",
              "  inputElement.disabled = true;\n",
              "\n",
              "  if (!files) {\n",
              "    return {\n",
              "      response: {\n",
              "        action: 'complete',\n",
              "      }\n",
              "    };\n",
              "  }\n",
              "\n",
              "  for (const file of files) {\n",
              "    const li = document.createElement('li');\n",
              "    li.append(span(file.name, {fontWeight: 'bold'}));\n",
              "    li.append(span(\n",
              "        `(${file.type || 'n/a'}) - ${file.size} bytes, ` +\n",
              "        `last modified: ${\n",
              "            file.lastModifiedDate ? file.lastModifiedDate.toLocaleDateString() :\n",
              "                                    'n/a'} - `));\n",
              "    const percent = span('0% done');\n",
              "    li.appendChild(percent);\n",
              "\n",
              "    outputElement.appendChild(li);\n",
              "\n",
              "    const fileDataPromise = new Promise((resolve) => {\n",
              "      const reader = new FileReader();\n",
              "      reader.onload = (e) => {\n",
              "        resolve(e.target.result);\n",
              "      };\n",
              "      reader.readAsArrayBuffer(file);\n",
              "    });\n",
              "    // Wait for the data to be ready.\n",
              "    let fileData = yield {\n",
              "      promise: fileDataPromise,\n",
              "      response: {\n",
              "        action: 'continue',\n",
              "      }\n",
              "    };\n",
              "\n",
              "    // Use a chunked sending to avoid message size limits. See b/62115660.\n",
              "    let position = 0;\n",
              "    do {\n",
              "      const length = Math.min(fileData.byteLength - position, MAX_PAYLOAD_SIZE);\n",
              "      const chunk = new Uint8Array(fileData, position, length);\n",
              "      position += length;\n",
              "\n",
              "      const base64 = btoa(String.fromCharCode.apply(null, chunk));\n",
              "      yield {\n",
              "        response: {\n",
              "          action: 'append',\n",
              "          file: file.name,\n",
              "          data: base64,\n",
              "        },\n",
              "      };\n",
              "\n",
              "      let percentDone = fileData.byteLength === 0 ?\n",
              "          100 :\n",
              "          Math.round((position / fileData.byteLength) * 100);\n",
              "      percent.textContent = `${percentDone}% done`;\n",
              "\n",
              "    } while (position < fileData.byteLength);\n",
              "  }\n",
              "\n",
              "  // All done.\n",
              "  yield {\n",
              "    response: {\n",
              "      action: 'complete',\n",
              "    }\n",
              "  };\n",
              "}\n",
              "\n",
              "scope.google = scope.google || {};\n",
              "scope.google.colab = scope.google.colab || {};\n",
              "scope.google.colab._files = {\n",
              "  _uploadFiles,\n",
              "  _uploadFilesContinue,\n",
              "};\n",
              "})(self);\n",
              "</script> "
            ]
          },
          "metadata": {}
        },
        {
          "output_type": "stream",
          "name": "stdout",
          "text": [
            "Saving Samples_25_07_24.dat to Samples_25_07_24.dat\n",
            "Total samples loaded: 24000\n"
          ]
        }
      ]
    },
    {
      "cell_type": "markdown",
      "source": [
        "Step 2: Define sampling rate and generate time array and Perform Fast Fourier Transform to find frequency components"
      ],
      "metadata": {
        "id": "vfFjMWL_iyk3"
      }
    },
    {
      "cell_type": "code",
      "source": [
        "# Define sampling rate and generate time array\n",
        "sampling_rate = 30\n",
        "time_axis = np.arange(len(signal_data)) / sampling_rate\n",
        "\n",
        "# Compute the Fourier Transform of the signal\n",
        "fft_values = fft(signal_data)\n",
        "frequencies = fftfreq(len(signal_data), d=1/sampling_rate)\n",
        "\n",
        "# Keeping only the positive frequency components\n",
        "positive_freqs = frequencies[frequencies >= 0]\n",
        "positive_spectrum = np.abs(fft_values[frequencies >= 0])"
      ],
      "metadata": {
        "id": "lxX8SzP5jiR3"
      },
      "execution_count": 2,
      "outputs": []
    },
    {
      "cell_type": "markdown",
      "source": [
        "Step 3: Plot the frequency spectrum and Identify significant frequencies (those above 10% of max)"
      ],
      "metadata": {
        "id": "JgvtrbxWkN-z"
      }
    },
    {
      "cell_type": "code",
      "source": [
        "plt.figure(figsize=(10, 5))\n",
        "plt.plot(positive_freqs, positive_spectrum, color='darkblue')\n",
        "plt.title(\"Frequency Spectrum of the Signal\")\n",
        "plt.xlabel(\"Frequency (Hz)\")\n",
        "plt.ylabel(\"Magnitude\")\n",
        "plt.grid(True)\n",
        "plt.tight_layout()\n",
        "plt.show()"
      ],
      "metadata": {
        "colab": {
          "base_uri": "https://localhost:8080/",
          "height": 507
        },
        "id": "fi8JzQgckLRJ",
        "outputId": "4576d17e-bbd2-46d8-bb32-cdba094cb6c1"
      },
      "execution_count": 3,
      "outputs": [
        {
          "output_type": "display_data",
          "data": {
            "text/plain": [
              "<Figure size 1000x500 with 1 Axes>"
            ],
            "image/png": "[encoded data removed]"
          },
          "metadata": {}
        }
      ]
    },
    {
      "cell_type": "code",
      "source": [
        "threshold = 0.1 * np.max(positive_spectrum)\n",
        "dominant_freqs = positive_freqs[positive_spectrum > threshold]\n",
        "\n",
        "print(\"Dominant Frequencies Present in the Signal (Hz):\")\n",
        "for freq in dominant_freqs:\n",
        "    print(f\"  → {freq:.4f} Hz\")"
      ],
      "metadata": {
        "colab": {
          "base_uri": "https://localhost:8080/",
          "height": 0
        },
        "id": "vGucfCBlkYJS",
        "outputId": "0b028920-ed59-45d1-e64f-7a197918dcff"
      },
      "execution_count": 4,
      "outputs": [
        {
          "output_type": "stream",
          "name": "stdout",
          "text": [
            "Dominant Frequencies Present in the Signal (Hz):\n",
            "  → 0.0100 Hz\n",
            "  → 0.0125 Hz\n",
            "  → 0.0150 Hz\n"
          ]
        }
      ]
    },
    {
      "cell_type": "markdown",
      "source": [
        "Step 4: Aliasing Analysis at 24 Hz Sampling and Check if any frequency exceeds the new Nyquist limit"
      ],
      "metadata": {
        "id": "6E4I2zk0kmfT"
      }
    },
    {
      "cell_type": "code",
      "source": [
        "original_nyquist = sampling_rate / 2\n",
        "new_sampling_rate = 24  # Hz\n",
        "new_nyquist = new_sampling_rate / 2\n",
        "\n",
        "print(\"\\nAliasing Check:\")\n",
        "print(f\"Original Nyquist limit (30 Hz): {original_nyquist} Hz\")\n",
        "print(f\"New Nyquist limit (24 Hz): {new_nyquist} Hz\")"
      ],
      "metadata": {
        "colab": {
          "base_uri": "https://localhost:8080/",
          "height": 0
        },
        "id": "mKAhL1MckT4O",
        "outputId": "87700478-6d4f-4a3d-8779-0863976c3bd1"
      },
      "execution_count": 5,
      "outputs": [
        {
          "output_type": "stream",
          "name": "stdout",
          "text": [
            "\n",
            "Aliasing Check:\n",
            "Original Nyquist limit (30 Hz): 15.0 Hz\n",
            "New Nyquist limit (24 Hz): 12.0 Hz\n"
          ]
        }
      ]
    },
    {
      "cell_type": "code",
      "source": [
        "aliased_freqs = dominant_freqs[dominant_freqs > new_nyquist]\n",
        "\n",
        "if len(aliased_freqs) > 0:\n",
        "    print(\"Aliasing will occur for the following frequencies:\")\n",
        "    for f in aliased_freqs:\n",
        "        alias_freq = abs(f - new_sampling_rate * round(f / new_sampling_rate))\n",
        "        print(f\"  - {f:.4f} Hz aliases to {alias_freq:.4f} Hz\")\n",
        "else:\n",
        "    print(\"No aliasing occurs when sampled at 24 Hz.\")"
      ],
      "metadata": {
        "colab": {
          "base_uri": "https://localhost:8080/",
          "height": 0
        },
        "id": "Hb-2DEdcklBo",
        "outputId": "a074a053-1e12-45f7-987e-5f06471cc566"
      },
      "execution_count": 8,
      "outputs": [
        {
          "output_type": "stream",
          "name": "stdout",
          "text": [
            "No aliasing occurs when sampled at 24 Hz.\n"
          ]
        }
      ]
    },
    {
      "cell_type": "markdown",
      "source": [
        "Step 5: Finally will be Sampling Rate Summary"
      ],
      "metadata": {
        "id": "cHPUg2GVk9p-"
      }
    },
    {
      "cell_type": "code",
      "source": [
        "print(f\"\\nNumber of samples per second (Sampling Rate): {sampling_rate} Hz\")"
      ],
      "metadata": {
        "colab": {
          "base_uri": "https://localhost:8080/",
          "height": 0
        },
        "id": "gk-WA8vgk6mU",
        "outputId": "3298c053-d9b9-4971-fd79-d3e4683738bf"
      },
      "execution_count": 9,
      "outputs": [
        {
          "output_type": "stream",
          "name": "stdout",
          "text": [
            "\n",
            "Number of samples per second (Sampling Rate): 30 Hz\n"
          ]
        }
      ]
    }
  ]
}